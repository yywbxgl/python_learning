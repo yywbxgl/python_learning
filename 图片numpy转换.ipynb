{
 "cells": [
  {
   "cell_type": "code",
   "execution_count": 26,
   "metadata": {},
   "outputs": [],
   "source": [
    "from PIL import Image\n",
    "import numpy as np\n",
    "import cv2"
   ]
  },
  {
   "cell_type": "code",
   "execution_count": 35,
   "metadata": {},
   "outputs": [
    {
     "name": "stdout",
     "output_type": "stream",
     "text": [
      "(224, 224, 3)\n"
     ]
    }
   ],
   "source": [
    "img = Image.open(\"input/cat.jpg\")\n",
    "x = np.array(img, dtype=np.float32)\n",
    "print(x.shape)"
   ]
  },
  {
   "cell_type": "code",
   "execution_count": 21,
   "metadata": {},
   "outputs": [
    {
     "name": "stdout",
     "output_type": "stream",
     "text": [
      "[ 27.  26.  26.  28.  30.  31.  31.  30.  31.  31.  32.  32.  31.  30.\n",
      "  31.  31.  32.  29.  29.  30.  31.  31.  33.  33.  32.  33.  33.  34.\n",
      "  32.  31.  30.  31.  33.  32.  32.  33.  35.  34.  34.  33.  31.  32.\n",
      "  32.  32.  29.  29.  29.  30.  31.  31.  31.  31.  31.  31.  28.  29.\n",
      "  28.  28.  29.  29.  29.  28.  28.  27.  26.  25.  25.  26.  23.  22.\n",
      "  28.  37.  46.  55.  59.  65.  78.  87.  92.  98.  98.  96.  95.  98.\n",
      " 104. 107. 104. 102. 103. 102. 100. 102. 109. 113. 116. 119. 116. 116.\n",
      " 114. 110. 107. 104. 101. 103. 102.  96.  99. 107. 114. 115. 113. 108.\n",
      "  95.  91.  87.  85.  82.  83.  87.  90.  94. 100. 107. 109. 107. 106.\n",
      "  96.  84.  75.  71.  65.  57.  65.  79.  86.  93.  80.  83.  81.  78.\n",
      "  77.  83.  88.  98. 114. 123. 128. 120. 112. 112. 101. 101. 108. 107.\n",
      " 102.  99.  96.  85.  81.  86.  91.  95. 103. 100.  96. 100. 100.  96.\n",
      "  83.  87.  96.  99.  90.  84.  75.  97. 111. 114. 109.  98.  79.  86.\n",
      "  82.  80.  77.  67.  65.  67.  82.  91.  75.  69.  64.  67.  73.  72.\n",
      "  62.  66.  72.  90.  95.  85.  68.  73.  89. 103.  89.  96.  95.  70.\n",
      "  37.  40.  35.  49.  70.  98. 110.  84.  55.  42.  36.  41.  35.  53.]\n"
     ]
    }
   ],
   "source": [
    "print(x[:,0,0])"
   ]
  },
  {
   "cell_type": "code",
   "execution_count": 10,
   "metadata": {},
   "outputs": [
    {
     "name": "stdout",
     "output_type": "stream",
     "text": [
      "(224, 224)\n"
     ]
    }
   ],
   "source": [
    "print(x[:,:,0].shape)"
   ]
  },
  {
   "cell_type": "code",
   "execution_count": 91,
   "metadata": {},
   "outputs": [
    {
     "name": "stdout",
     "output_type": "stream",
     "text": [
      "[0, 0, 0, 1, 1, 1, 2, 2, 2, 3, 3, 3, 4, 4, 4, 5, 5, 5, 6, 6, 6, 7, 7, 7, 8, 8, 8, 9, 9, 9, 10, 10, 10, 11, 11, 11, 12, 12, 12, 13, 13, 13, 14, 14, 14, 15, 15, 15, 16, 16, 16, 17, 17, 17, 18, 18, 18, 19, 19, 19, 20, 20, 20, 21, 21, 21, 22, 22, 22, 23, 23, 23, 24, 24, 24]\n",
      "[[ 0  1  2  3  4]\n",
      " [ 5  6  7  8  9]\n",
      " [10 11 12 13 14]\n",
      " [15 16 17 18 19]\n",
      " [20 21 22 23 24]]\n"
     ]
    }
   ],
   "source": [
    "tmp = []\n",
    "channel = 3\n",
    "for i in range(25):\n",
    "    for j in range(channel):\n",
    "        tmp.append(i)\n",
    "print(tmp)\n",
    "\n",
    "x = np.array(tmp)\n",
    "x = np.reshape(x, (5,5,3))\n",
    "print(x[:,:,0])"
   ]
  },
  {
   "cell_type": "code",
   "execution_count": 27,
   "metadata": {},
   "outputs": [
    {
     "name": "stdout",
     "output_type": "stream",
     "text": [
      "save img conv.jpg\n"
     ]
    }
   ],
   "source": [
    "cv2.imwrite(\"conv.jpg\", x)\n",
    "print(\"save img conv.jpg\")"
   ]
  },
  {
   "cell_type": "code",
   "execution_count": 85,
   "metadata": {},
   "outputs": [
    {
     "name": "stdout",
     "output_type": "stream",
     "text": [
      "(5, 5, 3)\n",
      "(1, 5, 5, 3)\n"
     ]
    }
   ],
   "source": [
    "img = cv2.imread(\"conv.jpg\")\n",
    "x = np.array(img, dtype=np.float32)\n",
    "print(x.shape)\n",
    "x = np.reshape(x, (1,5,5,3))\n",
    "print(x.shape)"
   ]
  },
  {
   "cell_type": "code",
   "execution_count": 86,
   "metadata": {},
   "outputs": [
    {
     "name": "stdout",
     "output_type": "stream",
     "text": [
      "(1, 3, 5, 5)\n"
     ]
    }
   ],
   "source": [
    "x = np.transpose(x,(0,3,1,2))\n",
    "print(x.shape)"
   ]
  },
  {
   "cell_type": "code",
   "execution_count": 87,
   "metadata": {},
   "outputs": [
    {
     "name": "stdout",
     "output_type": "stream",
     "text": [
      "(1, 3, 5, 5)\n",
      "[[[[ 0.  1.  2.  3.  4.]\n",
      "   [ 5.  6.  7.  8.  9.]\n",
      "   [10. 11. 12. 13. 14.]\n",
      "   [15. 16. 17. 18. 19.]\n",
      "   [20. 20. 22. 23. 24.]]\n",
      "\n",
      "  [[ 0.  1.  2.  3.  4.]\n",
      "   [ 5.  6.  7.  8.  9.]\n",
      "   [10. 11. 12. 13. 14.]\n",
      "   [15. 16. 17. 18. 19.]\n",
      "   [20. 20. 22. 23. 24.]]\n",
      "\n",
      "  [[ 0.  1.  2.  3.  4.]\n",
      "   [ 5.  6.  7.  8.  9.]\n",
      "   [10. 11. 12. 13. 14.]\n",
      "   [15. 16. 17. 18. 19.]\n",
      "   [20. 20. 22. 23. 24.]]]]\n"
     ]
    }
   ],
   "source": [
    "print(x.shape)\n",
    "print(x)"
   ]
  },
  {
   "cell_type": "code",
   "execution_count": 90,
   "metadata": {},
   "outputs": [
    {
     "name": "stdout",
     "output_type": "stream",
     "text": [
      "[ 0.  5. 10. 15. 20.]\n"
     ]
    }
   ],
   "source": [
    "img = cv2.imread(\"conv.jpg\")\n",
    "x = np.array(img, dtype=np.float32)\n",
    "print(x[:,0,0])"
   ]
  },
  {
   "cell_type": "code",
   "execution_count": null,
   "metadata": {},
   "outputs": [],
   "source": []
  }
 ],
 "metadata": {
  "kernelspec": {
   "display_name": "Python 3",
   "language": "python",
   "name": "python3"
  },
  "language_info": {
   "codemirror_mode": {
    "name": "ipython",
    "version": 3
   },
   "file_extension": ".py",
   "mimetype": "text/x-python",
   "name": "python",
   "nbconvert_exporter": "python",
   "pygments_lexer": "ipython3",
   "version": "3.5.2"
  }
 },
 "nbformat": 4,
 "nbformat_minor": 2
}
